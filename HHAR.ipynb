{
  "nbformat": 4,
  "nbformat_minor": 0,
  "metadata": {
    "colab": {
      "name": "HHAR.ipynb",
      "provenance": [],
      "collapsed_sections": [
        "s71hyHa348p0"
      ],
      "toc_visible": true,
      "include_colab_link": true
    },
    "kernelspec": {
      "name": "python3",
      "display_name": "Python 3"
    }
  },
  "cells": [
    {
      "cell_type": "markdown",
      "metadata": {
        "id": "view-in-github",
        "colab_type": "text"
      },
      "source": [
        "<a href=\"https://colab.research.google.com/github/h-gokul/HHAR-Using_HARnet/blob/master/HHAR.ipynb\" target=\"_parent\"><img src=\"https://colab.research.google.com/assets/colab-badge.svg\" alt=\"Open In Colab\"/></a>"
      ]
    },
    {
      "cell_type": "code",
      "metadata": {
        "id": "QVy1jAbroMaD",
        "colab_type": "code",
        "colab": {}
      },
      "source": [
        "import pandas as pd \n",
        "import numpy as np\n",
        "import matplotlib.pyplot as plt\n",
        "from sklearn.ensemble import ExtraTreesClassifier\n",
        "from sklearn.model_selection import train_test_split\n",
        "from scipy.stats import skew, kurtosis\n",
        "from scipy.signal import hilbert\n",
        "from multiprocessing import Pool, cpu_count\n",
        "from keras.models import Sequential, Input, Model\n",
        "from keras.layers import Dense, Conv1D, Conv2D, MaxPooling1D, MaxPooling2D, Flatten, Dropout, Lambda\n",
        "from keras.layers import BatchNormalization, UpSampling1D, UpSampling2D, LSTM, merge, Concatenate,Reshape\n",
        "\n",
        "from keras.utils import to_categorical\n",
        "import keras\n",
        "from sklearn.preprocessing import StandardScaler\n",
        "import pickle\n",
        "import matplotlib.pyplot as plt\n",
        "from matplotlib.pyplot import imshow\n",
        "# from scipy.misc import imresize #deprecated\n",
        "import scipy.signal\n",
        "from scipy.signal import cwt, decimate\n",
        "import pywt\n",
        "import os\n",
        "#from keras_squeezenet import SqueezeNet\n",
        "# from SqueezeNetModel import SqueezeNet\n",
        "from keras import regularizers\n",
        "from keras import backend as K"
      ],
      "execution_count": 0,
      "outputs": []
    },
    {
      "cell_type": "code",
      "metadata": {
        "id": "6FjLAsixoYXq",
        "colab_type": "code",
        "outputId": "f85b4542-c0f4-4841-f665-1c70609dfb54",
        "colab": {
          "base_uri": "https://localhost:8080/",
          "height": 36
        }
      },
      "source": [
        "import os\n",
        "from google.colab import drive \n",
        "drive.mount (\"/content/gdrive\")\n",
        "os.chdir(\"/content/gdrive/My Drive/HHAR\")\n",
        "cwd = os.getcwd()   \n",
        "# print the current directory \n",
        "print(\"Current working directory is:\", cwd) "
      ],
      "execution_count": 0,
      "outputs": [
        {
          "output_type": "stream",
          "text": [
            "Drive already mounted at /content/gdrive; to attempt to forcibly remount, call drive.mount(\"/content/gdrive\", force_remount=True).\n"
          ],
          "name": "stdout"
        }
      ]
    },
    {
      "cell_type": "markdown",
      "metadata": {
        "id": "s71hyHa348p0",
        "colab_type": "text"
      },
      "source": [
        "#DataExtraction based on sampling rates"
      ]
    },
    {
      "cell_type": "code",
      "metadata": {
        "id": "rSLA8UfmotkQ",
        "colab_type": "code",
        "outputId": "fe7c0413-e7ae-4b43-f903-5deff33ba7c8",
        "colab": {
          "base_uri": "https://localhost:8080/",
          "height": 73
        }
      },
      "source": [
        "df1= pd.read_csv(\"Phones_accelerometer.csv\")\n",
        "df1.columns"
      ],
      "execution_count": 0,
      "outputs": [
        {
          "output_type": "execute_result",
          "data": {
            "text/plain": [
              "Index(['Index', 'Arrival_Time', 'Creation_Time', 'x', 'y', 'z', 'User',\n",
              "       'Model', 'Device', 'gt'],\n",
              "      dtype='object')"
            ]
          },
          "metadata": {
            "tags": []
          },
          "execution_count": 4
        }
      ]
    },
    {
      "cell_type": "code",
      "metadata": {
        "id": "34HWPCySuO1B",
        "colab_type": "code",
        "outputId": "82fc5b48-0855-43c1-b37f-30a08d30c255",
        "colab": {
          "base_uri": "https://localhost:8080/",
          "height": 316
        }
      },
      "source": [
        "#nan_removal\n",
        "print(df1['gt'].value_counts())\n",
        "print(df1['gt'].unique())\n",
        "df_=pd.DataFrame()\n",
        "df_= df_.append(df1[df1['gt']== 'stand'])\n",
        "df_= df_.append(df1[df1['gt']== 'sit'])\n",
        "df_= df_.append(df1[df1['gt']== 'walk'])\n",
        "df_= df_.append(df1[df1['gt']== 'bike'])\n",
        "df_= df_.append(df1[df1['gt']== 'stairsup'])\n",
        "df_= df_.append(df1[df1['gt']== 'stairsdown'])\n",
        "print(df_['gt'].value_counts())\n",
        "print(df_['gt'].unique())"
      ],
      "execution_count": 0,
      "outputs": [
        {
          "output_type": "stream",
          "text": [
            "walk          2192401\n",
            "sit           1991919\n",
            "stand         1851492\n",
            "bike          1845557\n",
            "stairsup      1782010\n",
            "stairsdown    1615896\n",
            "Name: gt, dtype: int64\n",
            "['stand' nan 'sit' 'walk' 'stairsup' 'stairsdown' 'bike']\n",
            "walk          2192401\n",
            "sit           1991919\n",
            "stand         1851492\n",
            "bike          1845557\n",
            "stairsup      1782010\n",
            "stairsdown    1615896\n",
            "Name: gt, dtype: int64\n",
            "['stand' 'sit' 'walk' 'bike' 'stairsup' 'stairsdown']\n"
          ],
          "name": "stdout"
        }
      ]
    },
    {
      "cell_type": "code",
      "metadata": {
        "id": "TaK7gd51qLxF",
        "colab_type": "code",
        "outputId": "3f8145fd-4541-4400-a1ba-e60aa41ac0b0",
        "colab": {
          "base_uri": "https://localhost:8080/",
          "height": 148
        }
      },
      "source": [
        "# del df1\n",
        "# Create dictionaries for activities , devices and users.\n",
        "label_ = {}\n",
        "dev_ = {}\n",
        "user_ = {}\n",
        "\n",
        "df_ = df_[df_['gt'] != 'null'] \n",
        "\n",
        "acts=df_['gt'].unique()\n",
        "print(acts)\n",
        "for i, a in enumerate(acts):\n",
        "  label_[a]= i  \n",
        "print(label_) #dictionary for 6 activity classes\n",
        "\n",
        "devices= df_['Device'].unique()\n",
        "print(devices)\n",
        "for i, dev in enumerate(devices):\n",
        "  dev_[dev]= i  \n",
        "print(dev_) #dictionary for 8 devices\n",
        "\n",
        "users= df_['User'].unique()\n",
        "print(users)\n",
        "for i, user in enumerate(users):\n",
        "  user_[user]= i  \n",
        "print(user_) #dictionary for 9 users"
      ],
      "execution_count": 0,
      "outputs": [
        {
          "output_type": "stream",
          "text": [
            "['stand' 'sit' 'walk' 'bike' 'stairsup' 'stairsdown']\n",
            "{'stand': 0, 'sit': 1, 'walk': 2, 'bike': 3, 'stairsup': 4, 'stairsdown': 5}\n",
            "['nexus4_1' 'nexus4_2' 's3_1' 's3_2' 's3mini_1' 's3mini_2' 'samsungold_1'\n",
            " 'samsungold_2']\n",
            "{'nexus4_1': 0, 'nexus4_2': 1, 's3_1': 2, 's3_2': 3, 's3mini_1': 4, 's3mini_2': 5, 'samsungold_1': 6, 'samsungold_2': 7}\n",
            "['a' 'b' 'c' 'd' 'e' 'f' 'g' 'h' 'i']\n",
            "{'a': 0, 'b': 1, 'c': 2, 'd': 3, 'e': 4, 'f': 5, 'g': 6, 'h': 7, 'i': 8}\n"
          ],
          "name": "stdout"
        }
      ]
    },
    {
      "cell_type": "code",
      "metadata": {
        "id": "k7oeBRl6xZwv",
        "colab_type": "code",
        "outputId": "b6b43743-1a1c-40ba-dccc-f49e7860a792",
        "colab": {
          "base_uri": "https://localhost:8080/",
          "height": 54
        }
      },
      "source": [
        "#to see shape\n",
        "stand = df_[df_['gt']=='stand'] ## in the entire dataframe, choose the stand class.\n",
        "s32=stand[stand[\"Device\"]=='s3_2'] ## inside the stand class, select  s3_2 device among others. \n",
        "user_a = s32[s32[\"User\"]=='a'] ## inside s3_2 device, there is many users, we see user a \n",
        "print(user_a.shape) ## print the shape of user a in s3_2 in stand class.\n",
        "\n",
        "testArray_a = np.array(user_a) #indexed as [row][column]\n",
        "np.shape(testArray_a)"
      ],
      "execution_count": 0,
      "outputs": [
        {
          "output_type": "stream",
          "text": [
            "(28144, 10)\n"
          ],
          "name": "stdout"
        },
        {
          "output_type": "execute_result",
          "data": {
            "text/plain": [
              "(28144, 10)"
            ]
          },
          "metadata": {
            "tags": []
          },
          "execution_count": 12
        }
      ]
    },
    {
      "cell_type": "code",
      "metadata": {
        "id": "U2_X-H1ALlnc",
        "colab_type": "code",
        "outputId": "d1d2fb20-95cb-4ca9-c32b-881a935e6a2a",
        "colab": {
          "base_uri": "https://localhost:8080/",
          "height": 110
        }
      },
      "source": [
        "print(testArray_a[0])\n",
        "print(df_.columns)"
      ],
      "execution_count": 0,
      "outputs": [
        {
          "output_type": "stream",
          "text": [
            "[0 1424696633914 274248797337000 -6.0525417 1.0821792 7.374141000000002\n",
            " 'a' 's3' 's3_2' 'stand']\n",
            "Index(['Index', 'Arrival_Time', 'Creation_Time', 'x', 'y', 'z', 'User',\n",
            "       'Model', 'Device', 'gt'],\n",
            "      dtype='object')\n"
          ],
          "name": "stdout"
        }
      ]
    },
    {
      "cell_type": "code",
      "metadata": {
        "id": "k-6jEmPTzU1x",
        "colab_type": "code",
        "outputId": "7ddd151b-4ccf-4add-e194-755ecf52f558",
        "colab": {
          "base_uri": "https://localhost:8080/",
          "height": 241
        }
      },
      "source": [
        "def MinWindowFn(device): ##chooses a the window size for downsampling(ie decimation) depending on device. \n",
        "    if str(device) == 'nexus4_1' or str(device) == 'nexus4_2':\n",
        "      min_w = 400\n",
        "    elif str(device) == 's3_1' or str(device) == 's3_2':\n",
        "      min_w = 300\n",
        "    elif str(device) == 's3mini_1' or str(device) == 's3mini_2':\n",
        "      min_w = 200\n",
        "    else:\n",
        "      min_w = 100\n",
        "    return min_w\n",
        "  \n",
        "def ExtractWindow(df,w): \n",
        "  window_count= df.shape[0]//w ## crops out a divisible portion from the available stream of accelerometer data. say if df.shape= 91k, w=400, window_count = 227 windows    \n",
        "  n=window_count*w ## n =  no. of windows * w \n",
        "  df = df.iloc[0:n]   ## extract the divisible portion of the dataframe.\n",
        "  return df\n",
        "\n",
        "d_400=pd.DataFrame()\n",
        "d_300=pd.DataFrame()\n",
        "d_200=pd.DataFrame()\n",
        "d_100=pd.DataFrame()\n",
        "acctemp, devtemp, actstemp = [],[],[]\n",
        "for a in acts:\n",
        "  df_acts = df_[df_['gt']== a]\n",
        "  for d in devices:\n",
        "    df_dev = df_acts[df_acts['Device']== d ]\n",
        "    for u in users:\n",
        "      df_user = df_dev[df_dev['User'] == u]\n",
        "      df_user.drop(columns=[\"Index\",'Arrival_Time', 'Creation_Time',\"Model\"], axis=1 , inplace=True)\n",
        "      wlen = MinWindowFn(d)\n",
        "      if (df_user.shape[0]>wlen): \n",
        "        if wlen==400 : \n",
        "          d_400 =d_400.append( ExtractWindow(df_user,wlen))               \n",
        "        elif wlen==300 : \n",
        "          d_300 = d_300.append( ExtractWindow(df_user,wlen))\n",
        "        elif wlen==200 : \n",
        "          d_200 = d_200.append( ExtractWindow(df_user,wlen))\n",
        "        else : \n",
        "          d_100 = d_100.append( ExtractWindow(df_user,wlen))\n",
        "  print(f'{a} is Done')\n",
        "print (\"All data are arranged Devices and label wise.\")\n"
      ],
      "execution_count": 0,
      "outputs": [
        {
          "output_type": "stream",
          "text": [
            "/usr/local/lib/python3.6/dist-packages/pandas/core/frame.py:4117: SettingWithCopyWarning: \n",
            "A value is trying to be set on a copy of a slice from a DataFrame\n",
            "\n",
            "See the caveats in the documentation: http://pandas.pydata.org/pandas-docs/stable/user_guide/indexing.html#returning-a-view-versus-a-copy\n",
            "  errors=errors,\n"
          ],
          "name": "stderr"
        },
        {
          "output_type": "stream",
          "text": [
            "stand is Done\n",
            "sit is Done\n",
            "walk is Done\n",
            "bike is Done\n",
            "stairsup is Done\n",
            "stairsdown is Done\n",
            "All data are arranged Devices and label wise.\n"
          ],
          "name": "stdout"
        }
      ]
    },
    {
      "cell_type": "code",
      "metadata": {
        "id": "caF7pULKTEA5",
        "colab_type": "code",
        "outputId": "f1f08005-6541-43de-a45f-a1488d3b4a4f",
        "colab": {
          "base_uri": "https://localhost:8080/",
          "height": 764
        }
      },
      "source": [
        "## print the total number of windows of data is available per user\n",
        "print((d_400['User'].value_counts()/400))\n",
        "print(d_300['User'].value_counts()/300)\n",
        "print(d_200['User'].value_counts()/200)\n",
        "print(d_100['User'].value_counts()/100)\n",
        "\n",
        "path = os.getcwd() +'/'\n",
        "d_400.to_csv(path+'d_400.csv',index=False)\n",
        "d_300.to_csv(path+'d_300.csv',index=False)\n",
        "d_200.to_csv(path+'d_200.csv',index=False)\n",
        "d_100.to_csv(path+'d_100.csv',index=False)"
      ],
      "execution_count": 0,
      "outputs": [
        {
          "output_type": "stream",
          "text": [
            "i    1594.0\n",
            "e    1566.0\n",
            "f    1560.0\n",
            "b    1543.0\n",
            "d    1481.0\n",
            "g    1479.0\n",
            "a    1445.0\n",
            "h    1411.0\n",
            "c    1381.0\n",
            "Name: User, dtype: float64\n",
            "i    1052.0\n",
            "b    1043.0\n",
            "e    1033.0\n",
            "g    1018.0\n",
            "a     970.0\n",
            "h     966.0\n",
            "d     960.0\n",
            "c     938.0\n",
            "f     506.0\n",
            "Name: User, dtype: float64\n",
            "f    862.0\n",
            "i    825.0\n",
            "g    814.0\n",
            "h    800.0\n",
            "b    777.0\n",
            "e    775.0\n",
            "a    743.0\n",
            "c    729.0\n",
            "d    717.0\n",
            "Name: User, dtype: float64\n",
            "b    2284.0\n",
            "f    2201.0\n",
            "i    2184.0\n",
            "e    2136.0\n",
            "g    2131.0\n",
            "h    2041.0\n",
            "c    2022.0\n",
            "a    1945.0\n",
            "d    1943.0\n",
            "Name: User, dtype: float64\n"
          ],
          "name": "stdout"
        }
      ]
    },
    {
      "cell_type": "markdown",
      "metadata": {
        "id": "_5O1QLjI5L4K",
        "colab_type": "text"
      },
      "source": [
        "# Decimation and Reshape\n",
        "\n",
        "There are unequal sampling rates ranging from 200Hz to 50 Hz depending on the devices used. So these were already segregated based on Sampling rates and now the signals need to be decimated to 50Hz on a preprocessing stage. \n"
      ]
    },
    {
      "cell_type": "code",
      "metadata": {
        "id": "O0mUwyr4vILp",
        "colab_type": "code",
        "colab": {}
      },
      "source": [
        "#Run this to  see the data shape\n",
        "\n",
        "stand = d_300[d_300['gt']=='stand'] ## in the entire dataframe, choose the stand class.\n",
        "s32=stand[stand[\"Device\"]=='s3_1'] ## inside the stand class, select  s3_2 device among others. \n",
        "user_a = s32[s32[\"User\"]=='f'] ## inside s3_2 device, there is many users, we see user a \n",
        "print(user_a.shape) ## print the shape of user a in s3_2 in stand class.\n",
        "testArray_a = np.array(user_a) #indexed as [row][column]\n",
        "np.shape(testArray_a)"
      ],
      "execution_count": 0,
      "outputs": []
    },
    {
      "cell_type": "code",
      "metadata": {
        "id": "zQK-soJXMs-h",
        "colab_type": "code",
        "colab": {}
      },
      "source": [
        "os.chdir(\"/content/gdrive/My Drive/HHAR\")\n",
        "d_400 =  pd.read_csv('d_400.csv')\n",
        "d_300 =  pd.read_csv('d_300.csv')\n",
        "d_200 =  pd.read_csv('d_200.csv')\n",
        "d_100 =  pd.read_csv('d_100.csv')"
      ],
      "execution_count": 0,
      "outputs": []
    },
    {
      "cell_type": "code",
      "metadata": {
        "id": "Y5ywQF-vMjeM",
        "colab_type": "code",
        "colab": {}
      },
      "source": [
        "from collections import Counter\n",
        "\n",
        "def Decimate(df,w):\n",
        "  x_ = []\n",
        "  y_ = []\n",
        "  count_tot,count_d,count_a = 0,0,0\n",
        "  wlen = w/100\n",
        "  acts = (df['gt'].unique())\n",
        "  devs = (df['Device'].unique())\n",
        "  user = (df['User'].unique())\n",
        "  for a in acts:\n",
        "    df_act = df[df[\"gt\"]==a]\n",
        "    count_a=count_a+1\n",
        "    for d in devs:\n",
        "      df_dev = df_act[df_act[\"Device\"]==d]\n",
        "      count_d=count_d+1\n",
        "      count_u=0\n",
        "      for u in user:\n",
        "        df_user = df_dev[df_dev['User']==u]\n",
        "        count_tot=count_tot+1\n",
        "        count_u=count_u+1\n",
        "        if (df_user.shape[0]> wlen):\n",
        "          x =  list(decimate(np.array(df_user['x']),int(wlen)))\n",
        "          y =  list(decimate(np.array(df_user['y']),int(wlen)))\n",
        "          z =  list(decimate(np.array(df_user['z']),int(wlen)))  \n",
        "          ulabel = np.repeat(u,len(x)) \n",
        "          dlabel = np.repeat(d,len(x))\n",
        "          alabel = np.repeat(a,len(x))\n",
        "          x_temp = (np.vstack((x,y,z))).transpose()\n",
        "          x_temp = x_temp.reshape(-1,100,3) # reshaping to a window\n",
        "          y_temp = np.vstack((alabel,ulabel,dlabel)).transpose()\n",
        "          y_temp = y_temp.reshape(-1,100,3)\n",
        "          y_temp = y_temp[:,0,:] #creating corresponding labels\n",
        "          if (count_tot == 1):\n",
        "            x_ = x_temp\n",
        "            y_ = y_temp\n",
        "          else:\n",
        "            x_ = np.vstack((x_,x_temp))\n",
        "            y_ = np.vstack((y_,y_temp))\n",
        "  return (np.array(x_),np.array(y_)) \n"
      ],
      "execution_count": 0,
      "outputs": []
    },
    {
      "cell_type": "code",
      "metadata": {
        "id": "VJkXEyV0VAca",
        "colab_type": "code",
        "colab": {}
      },
      "source": [
        "#All are decimated to equal sampling rates of 50 Hz\n",
        "x_400,y_400 = Decimate(d_400,400)\n",
        "x_300,y_300 = Decimate(d_300,300)\n",
        "x_200,y_200 = Decimate(d_200,200)\n",
        "x_100,y_100 = Decimate(d_100,100)\n",
        "\n",
        "x = np.vstack((x_400,x_300,x_200,x_100))\n",
        "y = np.vstack((y_400,y_300,y_200,y_100))"
      ],
      "execution_count": 0,
      "outputs": []
    },
    {
      "cell_type": "code",
      "metadata": {
        "id": "D18Beql-iPMk",
        "colab_type": "code",
        "outputId": "c9953844-f837-4fd2-b1ac-36816b5338be",
        "colab": {
          "base_uri": "https://localhost:8080/",
          "height": 36
        }
      },
      "source": [
        "print(x.shape,y[:,0].shape) # Final X and Y of the dataset"
      ],
      "execution_count": 0,
      "outputs": [
        {
          "output_type": "stream",
          "text": [
            "(47875, 100, 3) (47875,)\n"
          ],
          "name": "stdout"
        }
      ]
    },
    {
      "cell_type": "markdown",
      "metadata": {
        "id": "fzPAW7JDoj1l",
        "colab_type": "text"
      },
      "source": [
        "# Discrete Wavelet Transformation of the Signals\n"
      ]
    },
    {
      "cell_type": "code",
      "metadata": {
        "id": "MaHZaoXyotoM",
        "colab_type": "code",
        "colab": {}
      },
      "source": [
        ""
      ],
      "execution_count": 0,
      "outputs": []
    }
  ]
}