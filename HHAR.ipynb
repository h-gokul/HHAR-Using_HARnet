{
  "nbformat": 4,
  "nbformat_minor": 0,
  "metadata": {
    "colab": {
      "name": "HHAR.ipynb",
      "provenance": [],
      "collapsed_sections": [
        "s71hyHa348p0"
      ],
      "toc_visible": true,
      "include_colab_link": true
    },
    "kernelspec": {
      "name": "python3",
      "display_name": "Python 3"
    }
  },
  "cells": [
    {
      "cell_type": "markdown",
      "metadata": {
        "id": "view-in-github",
        "colab_type": "text"
      },
      "source": [
        "<a href=\"https://colab.research.google.com/github/h-gokul/HHAR-Using_HARnet/blob/master/HHAR.ipynb\" target=\"_parent\"><img src=\"https://colab.research.google.com/assets/colab-badge.svg\" alt=\"Open In Colab\"/></a>"
      ]
    },
    {
      "cell_type": "markdown",
      "metadata": {
        "id": "P7cp0oFR-hAc",
        "colab_type": "text"
      },
      "source": [
        "# Import packages, Mount the drive and Navigate to Project Folder in drive"
      ]
    },
    {
      "cell_type": "code",
      "metadata": {
        "id": "QVy1jAbroMaD",
        "colab_type": "code",
        "colab": {
          "base_uri": "https://localhost:8080/",
          "height": 101
        },
        "outputId": "591fdac3-bbad-4bc4-a4e7-27361d956228"
      },
      "source": [
        "import pandas as pd \n",
        "import numpy as np\n",
        "import matplotlib.pyplot as plt\n",
        "from sklearn.ensemble import ExtraTreesClassifier\n",
        "from sklearn.model_selection import train_test_split\n",
        "from scipy.stats import skew, kurtosis\n",
        "from scipy.signal import hilbert\n",
        "from multiprocessing import Pool, cpu_count\n",
        "from keras.models import Sequential, Input, Model\n",
        "from keras.layers import Dense, Conv1D, Conv2D, MaxPooling1D, MaxPooling2D, Flatten, Dropout, Lambda\n",
        "from keras.layers import BatchNormalization, UpSampling1D, UpSampling2D, LSTM,  merge, concatenate,Reshape\n",
        "\n",
        "from keras.utils import to_categorical\n",
        "import keras\n",
        "from sklearn.preprocessing import StandardScaler\n",
        "import pickle\n",
        "import matplotlib.pyplot as plt\n",
        "from matplotlib.pyplot import imshow\n",
        "# from scipy.misc import imresize #deprecated\n",
        "import scipy.signal\n",
        "from scipy.signal import cwt, decimate\n",
        "import pywt\n",
        "import os\n",
        "#from keras_squeezenet import SqueezeNet\n",
        "# from SqueezeNetModel import SqueezeNet\n",
        "from keras import regularizers\n",
        "from keras import backend as K"
      ],
      "execution_count": 1,
      "outputs": [
        {
          "output_type": "stream",
          "text": [
            "Using TensorFlow backend.\n"
          ],
          "name": "stderr"
        },
        {
          "output_type": "display_data",
          "data": {
            "text/html": [
              "<p style=\"color: red;\">\n",
              "The default version of TensorFlow in Colab will soon switch to TensorFlow 2.x.<br>\n",
              "We recommend you <a href=\"https://www.tensorflow.org/guide/migrate\" target=\"_blank\">upgrade</a> now \n",
              "or ensure your notebook will continue to use TensorFlow 1.x via the <code>%tensorflow_version 1.x</code> magic:\n",
              "<a href=\"https://colab.research.google.com/notebooks/tensorflow_version.ipynb\" target=\"_blank\">more info</a>.</p>\n"
            ],
            "text/plain": [
              "<IPython.core.display.HTML object>"
            ]
          },
          "metadata": {
            "tags": []
          }
        }
      ]
    },
    {
      "cell_type": "code",
      "metadata": {
        "id": "6FjLAsixoYXq",
        "colab_type": "code",
        "outputId": "f91146c8-99a6-49a6-e846-8eaad1b73b7b",
        "colab": {
          "base_uri": "https://localhost:8080/",
          "height": 149
        }
      },
      "source": [
        "import os\n",
        "from google.colab import drive \n",
        "drive.mount (\"/content/gdrive\")\n",
        "os.chdir(\"/content/gdrive/My Drive/HHAR\")\n",
        "cwd = os.getcwd()   \n",
        "# print the current directory \n",
        "print(\"Current working directory is:\", cwd) "
      ],
      "execution_count": 2,
      "outputs": [
        {
          "output_type": "stream",
          "text": [
            "Go to this URL in a browser: https://accounts.google.com/o/oauth2/auth?client_id=947318989803-6bn6qk8qdgf4n4g3pfee6491hc0brc4i.apps.googleusercontent.com&redirect_uri=urn%3aietf%3awg%3aoauth%3a2.0%3aoob&response_type=code&scope=email%20https%3a%2f%2fwww.googleapis.com%2fauth%2fdocs.test%20https%3a%2f%2fwww.googleapis.com%2fauth%2fdrive%20https%3a%2f%2fwww.googleapis.com%2fauth%2fdrive.photos.readonly%20https%3a%2f%2fwww.googleapis.com%2fauth%2fpeopleapi.readonly\n",
            "\n",
            "Enter your authorization code:\n",
            "··········\n",
            "Mounted at /content/gdrive\n",
            "Current working directory is: /content/gdrive/My Drive/HHAR\n"
          ],
          "name": "stdout"
        }
      ]
    },
    {
      "cell_type": "markdown",
      "metadata": {
        "id": "s71hyHa348p0",
        "colab_type": "text"
      },
      "source": [
        "#DataExtraction based on sampling rates"
      ]
    },
    {
      "cell_type": "code",
      "metadata": {
        "id": "rSLA8UfmotkQ",
        "colab_type": "code",
        "outputId": "fe7c0413-e7ae-4b43-f903-5deff33ba7c8",
        "colab": {
          "base_uri": "https://localhost:8080/",
          "height": 73
        }
      },
      "source": [
        "df1= pd.read_csv(\"Phones_accelerometer.csv\")\n",
        "df1.columns"
      ],
      "execution_count": 0,
      "outputs": [
        {
          "output_type": "execute_result",
          "data": {
            "text/plain": [
              "Index(['Index', 'Arrival_Time', 'Creation_Time', 'x', 'y', 'z', 'User',\n",
              "       'Model', 'Device', 'gt'],\n",
              "      dtype='object')"
            ]
          },
          "metadata": {
            "tags": []
          },
          "execution_count": 4
        }
      ]
    },
    {
      "cell_type": "code",
      "metadata": {
        "id": "34HWPCySuO1B",
        "colab_type": "code",
        "outputId": "82fc5b48-0855-43c1-b37f-30a08d30c255",
        "colab": {
          "base_uri": "https://localhost:8080/",
          "height": 316
        }
      },
      "source": [
        "#nan_removal\n",
        "print(df1['gt'].value_counts())\n",
        "print(df1['gt'].unique())\n",
        "df_=pd.DataFrame()\n",
        "df_= df_.append(df1[df1['gt']== 'stand'])\n",
        "df_= df_.append(df1[df1['gt']== 'sit'])\n",
        "df_= df_.append(df1[df1['gt']== 'walk'])\n",
        "df_= df_.append(df1[df1['gt']== 'bike'])\n",
        "df_= df_.append(df1[df1['gt']== 'stairsup'])\n",
        "df_= df_.append(df1[df1['gt']== 'stairsdown'])\n",
        "print(df_['gt'].value_counts())\n",
        "print(df_['gt'].unique())"
      ],
      "execution_count": 0,
      "outputs": [
        {
          "output_type": "stream",
          "text": [
            "walk          2192401\n",
            "sit           1991919\n",
            "stand         1851492\n",
            "bike          1845557\n",
            "stairsup      1782010\n",
            "stairsdown    1615896\n",
            "Name: gt, dtype: int64\n",
            "['stand' nan 'sit' 'walk' 'stairsup' 'stairsdown' 'bike']\n",
            "walk          2192401\n",
            "sit           1991919\n",
            "stand         1851492\n",
            "bike          1845557\n",
            "stairsup      1782010\n",
            "stairsdown    1615896\n",
            "Name: gt, dtype: int64\n",
            "['stand' 'sit' 'walk' 'bike' 'stairsup' 'stairsdown']\n"
          ],
          "name": "stdout"
        }
      ]
    },
    {
      "cell_type": "code",
      "metadata": {
        "id": "TaK7gd51qLxF",
        "colab_type": "code",
        "outputId": "3f8145fd-4541-4400-a1ba-e60aa41ac0b0",
        "colab": {
          "base_uri": "https://localhost:8080/",
          "height": 148
        }
      },
      "source": [
        "# del df1\n",
        "# Create dictionaries for activities , devices and users.\n",
        "label_ = {}\n",
        "dev_ = {}\n",
        "user_ = {}\n",
        "\n",
        "df_ = df_[df_['gt'] != 'null'] \n",
        "\n",
        "acts=df_['gt'].unique()\n",
        "print(acts)\n",
        "num_classes = len(acts)\n",
        "for i, a in enumerate(acts):\n",
        "  label_[a]= i  \n",
        "print(label_) #dictionary for 6 activity classes\n",
        "\n",
        "devices= df_['Device'].unique()\n",
        "print(devices)\n",
        "for i, dev in enumerate(devices):\n",
        "  dev_[dev]= i  \n",
        "print(dev_) #dictionary for 8 devices\n",
        "\n",
        "users= df_['User'].unique()\n",
        "print(users)\n",
        "for i, user in enumerate(users):\n",
        "  user_[user]= i  \n",
        "print(user_) #dictionary for 9 users"
      ],
      "execution_count": 0,
      "outputs": [
        {
          "output_type": "stream",
          "text": [
            "['stand' 'sit' 'walk' 'bike' 'stairsup' 'stairsdown']\n",
            "{'stand': 0, 'sit': 1, 'walk': 2, 'bike': 3, 'stairsup': 4, 'stairsdown': 5}\n",
            "['nexus4_1' 'nexus4_2' 's3_1' 's3_2' 's3mini_1' 's3mini_2' 'samsungold_1'\n",
            " 'samsungold_2']\n",
            "{'nexus4_1': 0, 'nexus4_2': 1, 's3_1': 2, 's3_2': 3, 's3mini_1': 4, 's3mini_2': 5, 'samsungold_1': 6, 'samsungold_2': 7}\n",
            "['a' 'b' 'c' 'd' 'e' 'f' 'g' 'h' 'i']\n",
            "{'a': 0, 'b': 1, 'c': 2, 'd': 3, 'e': 4, 'f': 5, 'g': 6, 'h': 7, 'i': 8}\n"
          ],
          "name": "stdout"
        }
      ]
    },
    {
      "cell_type": "code",
      "metadata": {
        "id": "k7oeBRl6xZwv",
        "colab_type": "code",
        "outputId": "b6b43743-1a1c-40ba-dccc-f49e7860a792",
        "colab": {
          "base_uri": "https://localhost:8080/",
          "height": 54
        }
      },
      "source": [
        "#to see shape\n",
        "stand = df_[df_['gt']=='stand'] ## in the entire dataframe, choose the stand class.\n",
        "s32=stand[stand[\"Device\"]=='s3_2'] ## inside the stand class, select  s3_2 device among others. \n",
        "user_a = s32[s32[\"User\"]=='a'] ## inside s3_2 device, there is many users, we see user a \n",
        "print(user_a.shape) ## print the shape of user a in s3_2 in stand class.\n",
        "\n",
        "testArray_a = np.array(user_a) #indexed as [row][column]\n",
        "np.shape(testArray_a)"
      ],
      "execution_count": 0,
      "outputs": [
        {
          "output_type": "stream",
          "text": [
            "(28144, 10)\n"
          ],
          "name": "stdout"
        },
        {
          "output_type": "execute_result",
          "data": {
            "text/plain": [
              "(28144, 10)"
            ]
          },
          "metadata": {
            "tags": []
          },
          "execution_count": 12
        }
      ]
    },
    {
      "cell_type": "code",
      "metadata": {
        "id": "U2_X-H1ALlnc",
        "colab_type": "code",
        "outputId": "d1d2fb20-95cb-4ca9-c32b-881a935e6a2a",
        "colab": {
          "base_uri": "https://localhost:8080/",
          "height": 110
        }
      },
      "source": [
        "print(testArray_a[0])\n",
        "print(df_.columns)"
      ],
      "execution_count": 0,
      "outputs": [
        {
          "output_type": "stream",
          "text": [
            "[0 1424696633914 274248797337000 -6.0525417 1.0821792 7.374141000000002\n",
            " 'a' 's3' 's3_2' 'stand']\n",
            "Index(['Index', 'Arrival_Time', 'Creation_Time', 'x', 'y', 'z', 'User',\n",
            "       'Model', 'Device', 'gt'],\n",
            "      dtype='object')\n"
          ],
          "name": "stdout"
        }
      ]
    },
    {
      "cell_type": "code",
      "metadata": {
        "id": "k-6jEmPTzU1x",
        "colab_type": "code",
        "outputId": "7ddd151b-4ccf-4add-e194-755ecf52f558",
        "colab": {
          "base_uri": "https://localhost:8080/",
          "height": 241
        }
      },
      "source": [
        "def MinWindowFn(device): ##chooses a the window size for downsampling(ie decimation) depending on device. \n",
        "    if str(device) == 'nexus4_1' or str(device) == 'nexus4_2':\n",
        "      min_w = 400\n",
        "    elif str(device) == 's3_1' or str(device) == 's3_2':\n",
        "      min_w = 300\n",
        "    elif str(device) == 's3mini_1' or str(device) == 's3mini_2':\n",
        "      min_w = 200\n",
        "    else:\n",
        "      min_w = 100\n",
        "    return min_w\n",
        "  \n",
        "def ExtractWindow(df,w): \n",
        "  window_count= df.shape[0]//w ## crops out a divisible portion from the available stream of accelerometer data. say if df.shape= 91k, w=400, window_count = 227 windows    \n",
        "  n=window_count*w ## n =  no. of windows * w \n",
        "  df = df.iloc[0:n]   ## extract the divisible portion of the dataframe.\n",
        "  return df\n",
        "\n",
        "d_400=pd.DataFrame()\n",
        "d_300=pd.DataFrame()\n",
        "d_200=pd.DataFrame()\n",
        "d_100=pd.DataFrame()\n",
        "acctemp, devtemp, actstemp = [],[],[]\n",
        "for a in acts:\n",
        "  df_acts = df_[df_['gt']== a]\n",
        "  for d in devices:\n",
        "    df_dev = df_acts[df_acts['Device']== d ]\n",
        "    for u in users:\n",
        "      df_user = df_dev[df_dev['User'] == u]\n",
        "      df_user.drop(columns=[\"Index\",'Arrival_Time', 'Creation_Time',\"Model\"], axis=1 , inplace=True)\n",
        "      wlen = MinWindowFn(d)\n",
        "      if (df_user.shape[0]>wlen): \n",
        "        if wlen==400 : \n",
        "          d_400 =d_400.append( ExtractWindow(df_user,wlen))               \n",
        "        elif wlen==300 : \n",
        "          d_300 = d_300.append( ExtractWindow(df_user,wlen))\n",
        "        elif wlen==200 : \n",
        "          d_200 = d_200.append( ExtractWindow(df_user,wlen))\n",
        "        else : \n",
        "          d_100 = d_100.append( ExtractWindow(df_user,wlen))\n",
        "  print(f'{a} is Done')\n",
        "print (\"All data are arranged Devices and label wise.\")\n"
      ],
      "execution_count": 0,
      "outputs": [
        {
          "output_type": "stream",
          "text": [
            "/usr/local/lib/python3.6/dist-packages/pandas/core/frame.py:4117: SettingWithCopyWarning: \n",
            "A value is trying to be set on a copy of a slice from a DataFrame\n",
            "\n",
            "See the caveats in the documentation: http://pandas.pydata.org/pandas-docs/stable/user_guide/indexing.html#returning-a-view-versus-a-copy\n",
            "  errors=errors,\n"
          ],
          "name": "stderr"
        },
        {
          "output_type": "stream",
          "text": [
            "stand is Done\n",
            "sit is Done\n",
            "walk is Done\n",
            "bike is Done\n",
            "stairsup is Done\n",
            "stairsdown is Done\n",
            "All data are arranged Devices and label wise.\n"
          ],
          "name": "stdout"
        }
      ]
    },
    {
      "cell_type": "code",
      "metadata": {
        "id": "caF7pULKTEA5",
        "colab_type": "code",
        "outputId": "f1f08005-6541-43de-a45f-a1488d3b4a4f",
        "colab": {
          "base_uri": "https://localhost:8080/",
          "height": 764
        }
      },
      "source": [
        "## print the total number of windows of data is available per user\n",
        "print((d_400['User'].value_counts()/400))\n",
        "print(d_300['User'].value_counts()/300)\n",
        "print(d_200['User'].value_counts()/200)\n",
        "print(d_100['User'].value_counts()/100)\n",
        "\n",
        "path = os.getcwd() +'/'\n",
        "d_400.to_csv(path+'d_400.csv',index=False)\n",
        "d_300.to_csv(path+'d_300.csv',index=False)\n",
        "d_200.to_csv(path+'d_200.csv',index=False)\n",
        "d_100.to_csv(path+'d_100.csv',index=False)"
      ],
      "execution_count": 0,
      "outputs": [
        {
          "output_type": "stream",
          "text": [
            "i    1594.0\n",
            "e    1566.0\n",
            "f    1560.0\n",
            "b    1543.0\n",
            "d    1481.0\n",
            "g    1479.0\n",
            "a    1445.0\n",
            "h    1411.0\n",
            "c    1381.0\n",
            "Name: User, dtype: float64\n",
            "i    1052.0\n",
            "b    1043.0\n",
            "e    1033.0\n",
            "g    1018.0\n",
            "a     970.0\n",
            "h     966.0\n",
            "d     960.0\n",
            "c     938.0\n",
            "f     506.0\n",
            "Name: User, dtype: float64\n",
            "f    862.0\n",
            "i    825.0\n",
            "g    814.0\n",
            "h    800.0\n",
            "b    777.0\n",
            "e    775.0\n",
            "a    743.0\n",
            "c    729.0\n",
            "d    717.0\n",
            "Name: User, dtype: float64\n",
            "b    2284.0\n",
            "f    2201.0\n",
            "i    2184.0\n",
            "e    2136.0\n",
            "g    2131.0\n",
            "h    2041.0\n",
            "c    2022.0\n",
            "a    1945.0\n",
            "d    1943.0\n",
            "Name: User, dtype: float64\n"
          ],
          "name": "stdout"
        }
      ]
    },
    {
      "cell_type": "markdown",
      "metadata": {
        "id": "_5O1QLjI5L4K",
        "colab_type": "text"
      },
      "source": [
        "# Decimation and Reshape\n",
        "\n",
        "There are unequal sampling rates ranging from 200Hz to 50 Hz depending on the devices used. So these were already segregated based on Sampling rates and now the signals need to be decimated to 50Hz on a preprocessing stage. \n"
      ]
    },
    {
      "cell_type": "code",
      "metadata": {
        "id": "O0mUwyr4vILp",
        "colab_type": "code",
        "colab": {}
      },
      "source": [
        "#Run this to  see the data shape\n",
        "\n",
        "stand = d_300[d_300['gt']=='stand'] ## in the entire dataframe, choose the stand class.\n",
        "s32=stand[stand[\"Device\"]=='s3_1'] ## inside the stand class, select  s3_2 device among others. \n",
        "user_a = s32[s32[\"User\"]=='f'] ## inside s3_2 device, there is many users, we see user a \n",
        "print(user_a.shape) ## print the shape of user a in s3_2 in stand class.\n",
        "testArray_a = np.array(user_a) #indexed as [row][column]\n",
        "np.shape(testArray_a)"
      ],
      "execution_count": 0,
      "outputs": []
    },
    {
      "cell_type": "code",
      "metadata": {
        "id": "zQK-soJXMs-h",
        "colab_type": "code",
        "colab": {}
      },
      "source": [
        "os.chdir(\"/content/gdrive/My Drive/HHAR\")\n",
        "d_400 =  pd.read_csv('d_400.csv')\n",
        "d_300 =  pd.read_csv('d_300.csv')\n",
        "d_200 =  pd.read_csv('d_200.csv')\n",
        "d_100 =  pd.read_csv('d_100.csv')"
      ],
      "execution_count": 0,
      "outputs": []
    },
    {
      "cell_type": "code",
      "metadata": {
        "id": "Y5ywQF-vMjeM",
        "colab_type": "code",
        "colab": {}
      },
      "source": [
        "from collections import Counter\n",
        "\n",
        "def Decimate(df,w):\n",
        "  x_ = []\n",
        "  y_ = []\n",
        "  count_tot,count_d,count_a = 0,0,0\n",
        "  wlen = w/100\n",
        "  acts = (df['gt'].unique())\n",
        "  devs = (df['Device'].unique())\n",
        "  user = (df['User'].unique())\n",
        "  for a in acts:\n",
        "    df_act = df[df[\"gt\"]==a]\n",
        "    count_a=count_a+1\n",
        "    for d in devs:\n",
        "      df_dev = df_act[df_act[\"Device\"]==d]\n",
        "      count_d=count_d+1\n",
        "      count_u=0\n",
        "      for u in user:\n",
        "        df_user = df_dev[df_dev['User']==u]\n",
        "        count_tot=count_tot+1\n",
        "        count_u=count_u+1\n",
        "        if (df_user.shape[0]> wlen):\n",
        "          x =  list(decimate(np.array(df_user['x']),int(wlen)))\n",
        "          y =  list(decimate(np.array(df_user['y']),int(wlen)))\n",
        "          z =  list(decimate(np.array(df_user['z']),int(wlen)))  \n",
        "          ulabel = np.repeat(u,len(x)) \n",
        "          dlabel = np.repeat(d,len(x))\n",
        "          alabel = np.repeat(a,len(x))\n",
        "          x_temp = (np.vstack((x,y,z))).transpose()\n",
        "          x_temp = x_temp.reshape(-1,100,3) # reshaping to a window\n",
        "          y_temp = np.vstack((alabel,ulabel,dlabel)).transpose()\n",
        "          y_temp = y_temp.reshape(-1,100,3)\n",
        "          y_temp = y_temp[:,0,:] #creating corresponding labels\n",
        "          if (count_tot == 1):\n",
        "            x_ = x_temp\n",
        "            y_ = y_temp\n",
        "          else:\n",
        "            x_ = np.vstack((x_,x_temp))\n",
        "            y_ = np.vstack((y_,y_temp))\n",
        "  return (np.array(x_),np.array(y_)) \n"
      ],
      "execution_count": 0,
      "outputs": []
    },
    {
      "cell_type": "code",
      "metadata": {
        "id": "VJkXEyV0VAca",
        "colab_type": "code",
        "colab": {}
      },
      "source": [
        "#All are decimated to equal sampling rates of 50 Hz\n",
        "x_400,y_400 = Decimate(d_400,400)\n",
        "x_300,y_300 = Decimate(d_300,300)\n",
        "x_200,y_200 = Decimate(d_200,200)\n",
        "x_100,y_100 = Decimate(d_100,100)\n",
        "\n",
        "x = np.vstack((x_400,x_300,x_200,x_100))\n",
        "y = np.vstack((y_400,y_300,y_200,y_100))"
      ],
      "execution_count": 0,
      "outputs": []
    },
    {
      "cell_type": "code",
      "metadata": {
        "id": "D18Beql-iPMk",
        "colab_type": "code",
        "outputId": "deb2c0b9-2aad-4631-9a01-bc6cb55a3a12",
        "colab": {
          "base_uri": "https://localhost:8080/",
          "height": 36
        }
      },
      "source": [
        "print(x.shape,y[:,0].shape) # Final X and Y of the dataset\n"
      ],
      "execution_count": 0,
      "outputs": [
        {
          "output_type": "stream",
          "text": [
            "(47875, 100, 3) (47875,)\n"
          ],
          "name": "stdout"
        }
      ]
    },
    {
      "cell_type": "code",
      "metadata": {
        "id": "BF9FUjGz_Q4H",
        "colab_type": "code",
        "colab": {}
      },
      "source": [
        "path = os.getcwd() +'/'\n",
        "np.save(path+'x',x)\n",
        "np.save(path+'y',y)"
      ],
      "execution_count": 0,
      "outputs": []
    },
    {
      "cell_type": "markdown",
      "metadata": {
        "id": "fzPAW7JDoj1l",
        "colab_type": "text"
      },
      "source": [
        "# Discrete Wavelet Transformation of the Signals\n"
      ]
    },
    {
      "cell_type": "code",
      "metadata": {
        "id": "MaHZaoXyotoM",
        "colab_type": "code",
        "colab": {}
      },
      "source": [
        "path = os.getcwd() +'/'\n",
        "x = np.load(path +'x.npy')\n",
        "y = np.load(path +'y.npy')"
      ],
      "execution_count": 0,
      "outputs": []
    },
    {
      "cell_type": "code",
      "metadata": {
        "id": "31DeH0rpAzFs",
        "colab_type": "code",
        "outputId": "877809c9-6c23-4137-8aba-bea88c02b5cb",
        "colab": {
          "base_uri": "https://localhost:8080/",
          "height": 36
        }
      },
      "source": [
        "print(x.shape,y[:,0].shape) # Final X and Y of the dataset"
      ],
      "execution_count": 4,
      "outputs": [
        {
          "output_type": "stream",
          "text": [
            "(47875, 100, 3) (47875,)\n"
          ],
          "name": "stdout"
        }
      ]
    },
    {
      "cell_type": "code",
      "metadata": {
        "id": "1ffTJJPGBHly",
        "colab_type": "code",
        "colab": {}
      },
      "source": [
        "masterX = []\n",
        "for i in range(len(x)):\n",
        "    Xca, Xda = pywt.dwt(x[i].reshape((-1, 3))[:,0], 'db1', mode='periodic') #wavelet transform the examples (rows) of x\n",
        "    Yca, Yda = pywt.dwt(x[i].reshape((-1, 3))[:,1], 'db1', mode='periodic') #wavelet transform the examples (rows) of y\n",
        "    Zca, Zda = pywt.dwt(x[i].reshape((-1, 3))[:,2], 'db1', mode='periodic') #wavelet transform the examples (rows) of z\n",
        "    #coef0 = np.vstack((Xca, Xda))\n",
        "    #coef1 = np.vstack((Yca, Yda))\n",
        "    #coef2 = np.vstack((Zca, Zda))\n",
        "    coef = np.hstack((Xca, Yca, Zca)).reshape((-1, 50, 3))\n",
        "    masterX.append((coef))\n",
        "    # print (i)"
      ],
      "execution_count": 0,
      "outputs": []
    },
    {
      "cell_type": "code",
      "metadata": {
        "id": "ONg_waqFCJsN",
        "colab_type": "code",
        "colab": {}
      },
      "source": [
        "masterX = np.array(masterX)\n",
        "masterX = masterX.reshape(-1,50,3)\n",
        "Y = y[:,0]"
      ],
      "execution_count": 0,
      "outputs": []
    },
    {
      "cell_type": "code",
      "metadata": {
        "id": "TcpHYr1JpGRo",
        "colab_type": "code",
        "colab": {}
      },
      "source": [
        "\n",
        "fit0 = StandardScaler().fit(masterX[:, :, 0])\n",
        "masterX0 = fit0.transform(masterX[:, :, 0])\n",
        "\n",
        "fit1 = StandardScaler().fit(masterX[:, :, 1])\n",
        "masterX1 = fit1.transform(masterX[:, :, 1])\n",
        "\n",
        "fit2 = StandardScaler().fit(masterX[:, :, 2])\n",
        "masterX2 = fit2.transform(masterX[:, :, 2])"
      ],
      "execution_count": 0,
      "outputs": []
    },
    {
      "cell_type": "code",
      "metadata": {
        "id": "O_eDYBg3p2MP",
        "colab_type": "code",
        "colab": {}
      },
      "source": [
        "X = np.dstack((masterX0, masterX1, masterX2))"
      ],
      "execution_count": 0,
      "outputs": []
    },
    {
      "cell_type": "code",
      "metadata": {
        "id": "iLJEhT_Eqcfy",
        "colab_type": "code",
        "colab": {}
      },
      "source": [
        ""
      ],
      "execution_count": 0,
      "outputs": []
    },
    {
      "cell_type": "code",
      "metadata": {
        "id": "Ff3hILyIHG7X",
        "colab_type": "code",
        "outputId": "453abb2c-c38f-431d-c509-0a33322347c9",
        "colab": {
          "base_uri": "https://localhost:8080/",
          "height": 761
        }
      },
      "source": [
        "a = 42069 \n",
        "plt.plot(x[a])\n",
        "plt.show()\n",
        "plt.plot(X[a])\n",
        "plt.show()\n",
        "plt.plot(masterX[a])\n",
        "plt.show()"
      ],
      "execution_count": 9,
      "outputs": [
        {
          "output_type": "display_data",
          "data": {
            "image/png": "[encoded data removed]",
            "text/plain": [
              "<Figure size 432x288 with 1 Axes>"
            ]
          },
          "metadata": {
            "tags": []
          }
        },
        {
          "output_type": "display_data",
          "data": {
            "image/png": "[encoded data removed]",
            "text/plain": [
              "<Figure size 432x288 with 1 Axes>"
            ]
          },
          "metadata": {
            "tags": []
          }
        },
        {
          "output_type": "display_data",
          "data": {
            "image/png": "[encoded data removed]",
            "text/plain": [
              "<Figure size 432x288 with 1 Axes>"
            ]
          },
          "metadata": {
            "tags": []
          }
        }
      ]
    },
    {
      "cell_type": "code",
      "metadata": {
        "id": "MlXTNh11HXEV",
        "colab_type": "code",
        "colab": {}
      },
      "source": [
        "X_train, X_test, Y_train, Y_test = train_test_split(X, Y, stratify=Y, test_size=0.3, random_state=45)"
      ],
      "execution_count": 0,
      "outputs": []
    },
    {
      "cell_type": "code",
      "metadata": {
        "id": "px0Ion6THs4v",
        "colab_type": "code",
        "outputId": "b9fa8ffb-12b4-43f7-a043-8f983d19f56a",
        "colab": {
          "base_uri": "https://localhost:8080/",
          "height": 112
        }
      },
      "source": [
        "onehot = pd.get_dummies(Y_train)\n",
        "Y_labels_train = onehot.columns\n",
        "Y_train = onehot.as_matrix()\n",
        "\n",
        "onehot = pd.get_dummies(Y_test)\n",
        "Y_labels_test = onehot.columns\n",
        "Y_test = onehot.as_matrix()"
      ],
      "execution_count": 11,
      "outputs": [
        {
          "output_type": "stream",
          "text": [
            "/usr/local/lib/python3.6/dist-packages/ipykernel_launcher.py:3: FutureWarning: Method .as_matrix will be removed in a future version. Use .values instead.\n",
            "  This is separate from the ipykernel package so we can avoid doing imports until\n",
            "/usr/local/lib/python3.6/dist-packages/ipykernel_launcher.py:7: FutureWarning: Method .as_matrix will be removed in a future version. Use .values instead.\n",
            "  import sys\n"
          ],
          "name": "stderr"
        }
      ]
    },
    {
      "cell_type": "code",
      "metadata": {
        "id": "kREmPpKRIU_T",
        "colab_type": "code",
        "outputId": "c5c894b9-0b98-438f-eaed-027652f79047",
        "colab": {
          "base_uri": "https://localhost:8080/",
          "height": 36
        }
      },
      "source": [
        "print(X_train.shape, X_test.shape, Y_train.shape, Y_test.shape)"
      ],
      "execution_count": 12,
      "outputs": [
        {
          "output_type": "stream",
          "text": [
            "(33512, 50, 3) (14363, 50, 3) (33512, 6) (14363, 6)\n"
          ],
          "name": "stdout"
        }
      ]
    },
    {
      "cell_type": "code",
      "metadata": {
        "id": "rLBwbIgR4AaT",
        "colab_type": "code",
        "colab": {}
      },
      "source": [
        "# Making data Compatible for our HARNET architecture\n",
        "\n",
        "X_train0 = X_train[:, :, 0].reshape((-1, 50, 1))\n",
        "X_train1 = X_train[:, :, 1].reshape((-1, 50, 1))\n",
        "X_train2 = X_train[:, :, 2].reshape((-1, 50, 1))\n",
        "\n",
        "X_test0 = X_test[:, :, 0].reshape((-1, 50, 1))\n",
        "X_test1 = X_test[:, :, 1].reshape((-1, 50, 1))\n",
        "X_test2 = X_test[:, :, 2].reshape((-1, 50, 1))"
      ],
      "execution_count": 0,
      "outputs": []
    },
    {
      "cell_type": "markdown",
      "metadata": {
        "id": "jvzLJSrFMfCm",
        "colab_type": "text"
      },
      "source": [
        "# Creating the HARNET architecture.\n"
      ]
    },
    {
      "cell_type": "code",
      "metadata": {
        "id": "Dh2rQKEqJWn_",
        "colab_type": "code",
        "colab": {}
      },
      "source": [
        "y_ = pd.DataFrame(Y)\n",
        "acts=y_[0].unique()\n",
        "num_classes = len(acts)"
      ],
      "execution_count": 0,
      "outputs": []
    },
    {
      "cell_type": "code",
      "metadata": {
        "id": "kPnWaJ_JyEDw",
        "colab_type": "code",
        "outputId": "c2071bdb-2d3c-4317-c734-d887cdb1a3d3",
        "colab": {
          "base_uri": "https://localhost:8080/",
          "height": 560
        }
      },
      "source": [
        "# RNN \n",
        "#SUBNET X\n",
        "input_layerX = Input(shape=(50,1))\n",
        "layerX_2 = LSTM(32,return_sequences=True)(input_layerX)\n",
        "convx_1 = Conv1D(8,(3),padding='same')(layerX_2)\n",
        "batch_normx1 = BatchNormalization()(convx_1)\n",
        "maxpx_1 = MaxPooling1D((2),padding='same')(batch_normx1)\n",
        "final_layerX = maxpx_1\n",
        "\n",
        "#SUBNET Y\n",
        "input_layerY = Input(shape=(50,1))\n",
        "layerY_2 = LSTM(32,return_sequences=True)(input_layerY)\n",
        "convy_1 = Conv1D(8,(3),padding='same')(layerY_2)\n",
        "batch_normy1 = BatchNormalization()(convy_1)\n",
        "maxpy_1 = MaxPooling1D((2),padding='same')(batch_normy1)\n",
        "final_layerY = maxpy_1\n",
        "\n",
        "#SUBNET Z\n",
        "input_layerZ = Input(shape=(50,1))\n",
        "layerZ_2 = LSTM(32,return_sequences=True)(input_layerZ)\n",
        "convz_1 = Conv1D(8,(3),padding='same')(layerZ_2)\n",
        "batch_normz1 = BatchNormalization()(convz_1)\n",
        "maxpz_1 = MaxPooling1D((2),padding='same')(batch_normz1)\n",
        "final_layerZ = maxpz_1\n",
        "\n",
        "#merge layers\n",
        "\n",
        "merged_model = keras.layers.concatenate([final_layerX,final_layerY,final_layerZ],axis = 1)\n",
        "print(K.int_shape(merged_model))\n",
        "\n",
        "#CNN classifier\n",
        "\n",
        "# final_merge = Reshape((K.int_shape(merged_model)[1]//3,3,1))(merged_model)\n",
        "final_merge = Reshape((K.int_shape(merged_model)[1],K.int_shape(merged_model)[2],1))(merged_model)\n",
        "conv_1 = Conv2D(8,(3,3),padding='same')(final_merge)\n",
        "batch_norm1 = BatchNormalization()(conv_1)\n",
        "pool_1 = MaxPooling2D((2,2),padding='same')(batch_norm1)\n",
        "\n",
        "flatten = Flatten()(pool_1)\n",
        "\n",
        "fc_layer1 = Dense(16,activation='relu')(flatten)\n",
        "\n",
        "fc_layer2 = Dropout(0.25)(fc_layer1)\n",
        "\n",
        "fc_layer3 = Dense(8,activation='relu')(fc_layer2)\n",
        "\n",
        "fc_layer4 = Dropout(0.25)(fc_layer3)\n",
        "\n",
        "output = Dense(num_classes,activation='softmax')(fc_layer4)\n",
        "\n",
        "model = Model([input_layerX,input_layerY,input_layerZ],output)"
      ],
      "execution_count": 14,
      "outputs": [
        {
          "output_type": "stream",
          "text": [
            "WARNING:tensorflow:From /usr/local/lib/python3.6/dist-packages/keras/backend/tensorflow_backend.py:66: The name tf.get_default_graph is deprecated. Please use tf.compat.v1.get_default_graph instead.\n",
            "\n",
            "WARNING:tensorflow:From /usr/local/lib/python3.6/dist-packages/keras/backend/tensorflow_backend.py:541: The name tf.placeholder is deprecated. Please use tf.compat.v1.placeholder instead.\n",
            "\n",
            "WARNING:tensorflow:From /usr/local/lib/python3.6/dist-packages/keras/backend/tensorflow_backend.py:4432: The name tf.random_uniform is deprecated. Please use tf.random.uniform instead.\n",
            "\n",
            "WARNING:tensorflow:From /usr/local/lib/python3.6/dist-packages/keras/backend/tensorflow_backend.py:148: The name tf.placeholder_with_default is deprecated. Please use tf.compat.v1.placeholder_with_default instead.\n",
            "\n",
            "WARNING:tensorflow:From /usr/local/lib/python3.6/dist-packages/keras/backend/tensorflow_backend.py:4267: The name tf.nn.max_pool is deprecated. Please use tf.nn.max_pool2d instead.\n",
            "\n",
            "(None, 75, 8)\n",
            "WARNING:tensorflow:From /usr/local/lib/python3.6/dist-packages/keras/backend/tensorflow_backend.py:190: The name tf.get_default_session is deprecated. Please use tf.compat.v1.get_default_session instead.\n",
            "\n",
            "WARNING:tensorflow:From /usr/local/lib/python3.6/dist-packages/keras/backend/tensorflow_backend.py:197: The name tf.ConfigProto is deprecated. Please use tf.compat.v1.ConfigProto instead.\n",
            "\n",
            "WARNING:tensorflow:From /usr/local/lib/python3.6/dist-packages/keras/backend/tensorflow_backend.py:203: The name tf.Session is deprecated. Please use tf.compat.v1.Session instead.\n",
            "\n",
            "WARNING:tensorflow:From /usr/local/lib/python3.6/dist-packages/keras/backend/tensorflow_backend.py:207: The name tf.global_variables is deprecated. Please use tf.compat.v1.global_variables instead.\n",
            "\n",
            "WARNING:tensorflow:From /usr/local/lib/python3.6/dist-packages/keras/backend/tensorflow_backend.py:216: The name tf.is_variable_initialized is deprecated. Please use tf.compat.v1.is_variable_initialized instead.\n",
            "\n",
            "WARNING:tensorflow:From /usr/local/lib/python3.6/dist-packages/keras/backend/tensorflow_backend.py:223: The name tf.variables_initializer is deprecated. Please use tf.compat.v1.variables_initializer instead.\n",
            "\n",
            "WARNING:tensorflow:From /usr/local/lib/python3.6/dist-packages/keras/backend/tensorflow_backend.py:2041: The name tf.nn.fused_batch_norm is deprecated. Please use tf.compat.v1.nn.fused_batch_norm instead.\n",
            "\n",
            "WARNING:tensorflow:From /usr/local/lib/python3.6/dist-packages/keras/backend/tensorflow_backend.py:3733: calling dropout (from tensorflow.python.ops.nn_ops) with keep_prob is deprecated and will be removed in a future version.\n",
            "Instructions for updating:\n",
            "Please use `rate` instead of `keep_prob`. Rate should be set to `rate = 1 - keep_prob`.\n"
          ],
          "name": "stdout"
        }
      ]
    },
    {
      "cell_type": "code",
      "metadata": {
        "id": "NF3ElGyI2sj5",
        "colab_type": "code",
        "colab": {
          "base_uri": "https://localhost:8080/",
          "height": 1000
        },
        "outputId": "54f29495-1c69-4589-9c4f-10d332a0e451"
      },
      "source": [
        "model.summary()"
      ],
      "execution_count": 16,
      "outputs": [
        {
          "output_type": "stream",
          "text": [
            "Model: \"model_1\"\n",
            "__________________________________________________________________________________________________\n",
            "Layer (type)                    Output Shape         Param #     Connected to                     \n",
            "==================================================================================================\n",
            "input_1 (InputLayer)            (None, 50, 1)        0                                            \n",
            "__________________________________________________________________________________________________\n",
            "input_2 (InputLayer)            (None, 50, 1)        0                                            \n",
            "__________________________________________________________________________________________________\n",
            "input_3 (InputLayer)            (None, 50, 1)        0                                            \n",
            "__________________________________________________________________________________________________\n",
            "lstm_1 (LSTM)                   (None, 50, 32)       4352        input_1[0][0]                    \n",
            "__________________________________________________________________________________________________\n",
            "lstm_2 (LSTM)                   (None, 50, 32)       4352        input_2[0][0]                    \n",
            "__________________________________________________________________________________________________\n",
            "lstm_3 (LSTM)                   (None, 50, 32)       4352        input_3[0][0]                    \n",
            "__________________________________________________________________________________________________\n",
            "conv1d_1 (Conv1D)               (None, 50, 8)        776         lstm_1[0][0]                     \n",
            "__________________________________________________________________________________________________\n",
            "conv1d_2 (Conv1D)               (None, 50, 8)        776         lstm_2[0][0]                     \n",
            "__________________________________________________________________________________________________\n",
            "conv1d_3 (Conv1D)               (None, 50, 8)        776         lstm_3[0][0]                     \n",
            "__________________________________________________________________________________________________\n",
            "batch_normalization_1 (BatchNor (None, 50, 8)        32          conv1d_1[0][0]                   \n",
            "__________________________________________________________________________________________________\n",
            "batch_normalization_2 (BatchNor (None, 50, 8)        32          conv1d_2[0][0]                   \n",
            "__________________________________________________________________________________________________\n",
            "batch_normalization_3 (BatchNor (None, 50, 8)        32          conv1d_3[0][0]                   \n",
            "__________________________________________________________________________________________________\n",
            "max_pooling1d_1 (MaxPooling1D)  (None, 25, 8)        0           batch_normalization_1[0][0]      \n",
            "__________________________________________________________________________________________________\n",
            "max_pooling1d_2 (MaxPooling1D)  (None, 25, 8)        0           batch_normalization_2[0][0]      \n",
            "__________________________________________________________________________________________________\n",
            "max_pooling1d_3 (MaxPooling1D)  (None, 25, 8)        0           batch_normalization_3[0][0]      \n",
            "__________________________________________________________________________________________________\n",
            "concatenate_1 (Concatenate)     (None, 75, 8)        0           max_pooling1d_1[0][0]            \n",
            "                                                                 max_pooling1d_2[0][0]            \n",
            "                                                                 max_pooling1d_3[0][0]            \n",
            "__________________________________________________________________________________________________\n",
            "reshape_1 (Reshape)             (None, 75, 8, 1)     0           concatenate_1[0][0]              \n",
            "__________________________________________________________________________________________________\n",
            "conv2d_1 (Conv2D)               (None, 75, 8, 8)     80          reshape_1[0][0]                  \n",
            "__________________________________________________________________________________________________\n",
            "batch_normalization_4 (BatchNor (None, 75, 8, 8)     32          conv2d_1[0][0]                   \n",
            "__________________________________________________________________________________________________\n",
            "max_pooling2d_1 (MaxPooling2D)  (None, 38, 4, 8)     0           batch_normalization_4[0][0]      \n",
            "__________________________________________________________________________________________________\n",
            "flatten_1 (Flatten)             (None, 1216)         0           max_pooling2d_1[0][0]            \n",
            "__________________________________________________________________________________________________\n",
            "dense_1 (Dense)                 (None, 16)           19472       flatten_1[0][0]                  \n",
            "__________________________________________________________________________________________________\n",
            "dropout_1 (Dropout)             (None, 16)           0           dense_1[0][0]                    \n",
            "__________________________________________________________________________________________________\n",
            "dense_2 (Dense)                 (None, 8)            136         dropout_1[0][0]                  \n",
            "__________________________________________________________________________________________________\n",
            "dropout_2 (Dropout)             (None, 8)            0           dense_2[0][0]                    \n",
            "__________________________________________________________________________________________________\n",
            "dense_3 (Dense)                 (None, 6)            54          dropout_2[0][0]                  \n",
            "==================================================================================================\n",
            "Total params: 35,254\n",
            "Trainable params: 35,190\n",
            "Non-trainable params: 64\n",
            "__________________________________________________________________________________________________\n"
          ],
          "name": "stdout"
        }
      ]
    },
    {
      "cell_type": "markdown",
      "metadata": {
        "id": "VRCsD7JO8YQ-",
        "colab_type": "text"
      },
      "source": [
        "# Training the Model\n"
      ]
    },
    {
      "cell_type": "code",
      "metadata": {
        "id": "A5EZBmlg2vwC",
        "colab_type": "code",
        "colab": {
          "base_uri": "https://localhost:8080/",
          "height": 112
        },
        "outputId": "78eab521-20d7-48d6-cf00-009366c64a7b"
      },
      "source": [
        "model.compile(loss='categorical_crossentropy', optimizer=keras.optimizers.Adam(lr=5e-4), metrics=['accuracy'])"
      ],
      "execution_count": 17,
      "outputs": [
        {
          "output_type": "stream",
          "text": [
            "WARNING:tensorflow:From /usr/local/lib/python3.6/dist-packages/keras/optimizers.py:793: The name tf.train.Optimizer is deprecated. Please use tf.compat.v1.train.Optimizer instead.\n",
            "\n",
            "WARNING:tensorflow:From /usr/local/lib/python3.6/dist-packages/keras/backend/tensorflow_backend.py:3576: The name tf.log is deprecated. Please use tf.math.log instead.\n",
            "\n"
          ],
          "name": "stdout"
        }
      ]
    },
    {
      "cell_type": "code",
      "metadata": {
        "id": "rvLL5hz83Nq7",
        "colab_type": "code",
        "colab": {
          "base_uri": "https://localhost:8080/",
          "height": 1000
        },
        "outputId": "51d0d1c7-ee79-4b8d-a798-ab74063e7307"
      },
      "source": [
        "model.fit([X_train0, X_train1, X_train2], Y_train, epochs=45, batch_size=512, \\\n",
        "          validation_data=([X_test0, X_test1, X_test2], Y_test))"
      ],
      "execution_count": 22,
      "outputs": [
        {
          "output_type": "stream",
          "text": [
            "WARNING:tensorflow:From /usr/local/lib/python3.6/dist-packages/tensorflow_core/python/ops/math_grad.py:1424: where (from tensorflow.python.ops.array_ops) is deprecated and will be removed in a future version.\n",
            "Instructions for updating:\n",
            "Use tf.where in 2.0, which has the same broadcast rule as np.where\n",
            "WARNING:tensorflow:From /usr/local/lib/python3.6/dist-packages/keras/backend/tensorflow_backend.py:1033: The name tf.assign_add is deprecated. Please use tf.compat.v1.assign_add instead.\n",
            "\n",
            "WARNING:tensorflow:From /usr/local/lib/python3.6/dist-packages/keras/backend/tensorflow_backend.py:1020: The name tf.assign is deprecated. Please use tf.compat.v1.assign instead.\n",
            "\n",
            "Train on 33512 samples, validate on 14363 samples\n",
            "Epoch 1/45\n",
            "33512/33512 [==============================] - 37s 1ms/step - loss: 1.6938 - acc: 0.3080 - val_loss: 1.5561 - val_acc: 0.5192\n",
            "Epoch 2/45\n",
            "33512/33512 [==============================] - 33s 979us/step - loss: 1.5244 - acc: 0.4192 - val_loss: 1.3541 - val_acc: 0.6225\n",
            "Epoch 3/45\n",
            "33512/33512 [==============================] - 33s 979us/step - loss: 1.3897 - acc: 0.4566 - val_loss: 1.1768 - val_acc: 0.6603\n",
            "Epoch 4/45\n",
            "33512/33512 [==============================] - 33s 983us/step - loss: 1.2397 - acc: 0.5054 - val_loss: 1.0516 - val_acc: 0.6954\n",
            "Epoch 5/45\n",
            "33512/33512 [==============================] - 33s 985us/step - loss: 1.1303 - acc: 0.5566 - val_loss: 0.9235 - val_acc: 0.7499\n",
            "Epoch 6/45\n",
            "33512/33512 [==============================] - 33s 985us/step - loss: 1.0403 - acc: 0.6138 - val_loss: 0.8367 - val_acc: 0.7331\n",
            "Epoch 7/45\n",
            "33512/33512 [==============================] - 33s 982us/step - loss: 0.9717 - acc: 0.6530 - val_loss: 0.7327 - val_acc: 0.7301\n",
            "Epoch 8/45\n",
            "33512/33512 [==============================] - 33s 981us/step - loss: 0.9285 - acc: 0.6680 - val_loss: 0.6539 - val_acc: 0.7915\n",
            "Epoch 9/45\n",
            "33512/33512 [==============================] - 33s 983us/step - loss: 0.8904 - acc: 0.6781 - val_loss: 0.6094 - val_acc: 0.8234\n",
            "Epoch 10/45\n",
            "33512/33512 [==============================] - 33s 980us/step - loss: 0.8650 - acc: 0.6862 - val_loss: 0.6372 - val_acc: 0.8099\n",
            "Epoch 11/45\n",
            "33512/33512 [==============================] - 33s 980us/step - loss: 0.8403 - acc: 0.6938 - val_loss: 0.5444 - val_acc: 0.8413\n",
            "Epoch 12/45\n",
            "33512/33512 [==============================] - 33s 981us/step - loss: 0.8224 - acc: 0.6949 - val_loss: 0.5474 - val_acc: 0.8382\n",
            "Epoch 13/45\n",
            "33512/33512 [==============================] - 33s 978us/step - loss: 0.8040 - acc: 0.7026 - val_loss: 0.5235 - val_acc: 0.8315\n",
            "Epoch 14/45\n",
            "33512/33512 [==============================] - 33s 983us/step - loss: 0.7820 - acc: 0.7115 - val_loss: 0.4971 - val_acc: 0.8325\n",
            "Epoch 15/45\n",
            "33512/33512 [==============================] - 33s 980us/step - loss: 0.7605 - acc: 0.7192 - val_loss: 0.4857 - val_acc: 0.8719\n",
            "Epoch 16/45\n",
            "33512/33512 [==============================] - 33s 979us/step - loss: 0.7445 - acc: 0.7274 - val_loss: 0.4712 - val_acc: 0.8472\n",
            "Epoch 17/45\n",
            "33512/33512 [==============================] - 33s 982us/step - loss: 0.7286 - acc: 0.7272 - val_loss: 0.4359 - val_acc: 0.8684\n",
            "Epoch 18/45\n",
            "33512/33512 [==============================] - 33s 982us/step - loss: 0.6883 - acc: 0.7351 - val_loss: 0.3957 - val_acc: 0.8844\n",
            "Epoch 19/45\n",
            "33512/33512 [==============================] - 33s 980us/step - loss: 0.6749 - acc: 0.7434 - val_loss: 0.3937 - val_acc: 0.8748\n",
            "Epoch 20/45\n",
            "33512/33512 [==============================] - 33s 978us/step - loss: 0.6621 - acc: 0.7437 - val_loss: 0.3801 - val_acc: 0.8929\n",
            "Epoch 21/45\n",
            "33512/33512 [==============================] - 33s 978us/step - loss: 0.6474 - acc: 0.7508 - val_loss: 0.3785 - val_acc: 0.8830\n",
            "Epoch 22/45\n",
            "33512/33512 [==============================] - 33s 975us/step - loss: 0.6334 - acc: 0.7535 - val_loss: 0.3980 - val_acc: 0.8852\n",
            "Epoch 23/45\n",
            "33512/33512 [==============================] - 33s 983us/step - loss: 0.6210 - acc: 0.7565 - val_loss: 0.3553 - val_acc: 0.8906\n",
            "Epoch 24/45\n",
            "33512/33512 [==============================] - 33s 981us/step - loss: 0.6033 - acc: 0.7635 - val_loss: 0.3461 - val_acc: 0.8996\n",
            "Epoch 25/45\n",
            "33512/33512 [==============================] - 33s 977us/step - loss: 0.6041 - acc: 0.7665 - val_loss: 0.3573 - val_acc: 0.8985\n",
            "Epoch 26/45\n",
            "33512/33512 [==============================] - 33s 975us/step - loss: 0.5970 - acc: 0.7661 - val_loss: 0.3540 - val_acc: 0.8983\n",
            "Epoch 27/45\n",
            "33512/33512 [==============================] - 33s 980us/step - loss: 0.5911 - acc: 0.7680 - val_loss: 0.3825 - val_acc: 0.8899\n",
            "Epoch 28/45\n",
            "33512/33512 [==============================] - 33s 982us/step - loss: 0.5862 - acc: 0.7721 - val_loss: 0.3304 - val_acc: 0.9000\n",
            "Epoch 29/45\n",
            "33512/33512 [==============================] - 33s 978us/step - loss: 0.5757 - acc: 0.7772 - val_loss: 0.3120 - val_acc: 0.9092\n",
            "Epoch 30/45\n",
            "33512/33512 [==============================] - 33s 978us/step - loss: 0.5703 - acc: 0.7764 - val_loss: 0.3114 - val_acc: 0.9120\n",
            "Epoch 31/45\n",
            "33512/33512 [==============================] - 33s 980us/step - loss: 0.5685 - acc: 0.7763 - val_loss: 0.3076 - val_acc: 0.9139\n",
            "Epoch 32/45\n",
            "33512/33512 [==============================] - 33s 978us/step - loss: 0.5577 - acc: 0.7796 - val_loss: 0.3215 - val_acc: 0.9074\n",
            "Epoch 33/45\n",
            "33512/33512 [==============================] - 33s 981us/step - loss: 0.5524 - acc: 0.7844 - val_loss: 0.2929 - val_acc: 0.9176\n",
            "Epoch 34/45\n",
            "33512/33512 [==============================] - 33s 979us/step - loss: 0.5461 - acc: 0.7899 - val_loss: 0.2989 - val_acc: 0.9190\n",
            "Epoch 35/45\n",
            "33512/33512 [==============================] - 33s 972us/step - loss: 0.5421 - acc: 0.7895 - val_loss: 0.2792 - val_acc: 0.9229\n",
            "Epoch 36/45\n",
            "33512/33512 [==============================] - 33s 972us/step - loss: 0.5407 - acc: 0.7901 - val_loss: 0.3212 - val_acc: 0.9106\n",
            "Epoch 37/45\n",
            "33512/33512 [==============================] - 33s 977us/step - loss: 0.5393 - acc: 0.7870 - val_loss: 0.2820 - val_acc: 0.9236\n",
            "Epoch 38/45\n",
            "33512/33512 [==============================] - 33s 976us/step - loss: 0.5296 - acc: 0.7932 - val_loss: 0.3337 - val_acc: 0.9009\n",
            "Epoch 39/45\n",
            "33512/33512 [==============================] - 33s 985us/step - loss: 0.5194 - acc: 0.7957 - val_loss: 0.2883 - val_acc: 0.9231\n",
            "Epoch 40/45\n",
            "33512/33512 [==============================] - 33s 979us/step - loss: 0.5224 - acc: 0.7948 - val_loss: 0.2739 - val_acc: 0.9206\n",
            "Epoch 41/45\n",
            "33512/33512 [==============================] - 33s 978us/step - loss: 0.5058 - acc: 0.8003 - val_loss: 0.2703 - val_acc: 0.9183\n",
            "Epoch 42/45\n",
            "33512/33512 [==============================] - 33s 980us/step - loss: 0.5134 - acc: 0.7971 - val_loss: 0.2765 - val_acc: 0.9169\n",
            "Epoch 43/45\n",
            "33512/33512 [==============================] - 33s 979us/step - loss: 0.5024 - acc: 0.8027 - val_loss: 0.2857 - val_acc: 0.9147\n",
            "Epoch 44/45\n",
            "33512/33512 [==============================] - 33s 978us/step - loss: 0.5077 - acc: 0.8000 - val_loss: 0.2717 - val_acc: 0.9202\n",
            "Epoch 45/45\n",
            "33512/33512 [==============================] - 33s 975us/step - loss: 0.5022 - acc: 0.8017 - val_loss: 0.2637 - val_acc: 0.9192\n"
          ],
          "name": "stdout"
        },
        {
          "output_type": "execute_result",
          "data": {
            "text/plain": [
              "<keras.callbacks.History at 0x7f6f5a160be0>"
            ]
          },
          "metadata": {
            "tags": []
          },
          "execution_count": 22
        }
      ]
    },
    {
      "cell_type": "code",
      "metadata": {
        "id": "94ud5POA4tDA",
        "colab_type": "code",
        "colab": {}
      },
      "source": [
        "preds = model.predict([X_test0,X_test1,X_test2],batch_size=32)\n",
        "preds = to_categorical(np.argmax(preds,axis=1))"
      ],
      "execution_count": 0,
      "outputs": []
    },
    {
      "cell_type": "code",
      "metadata": {
        "id": "uY3Q1MPX_Fku",
        "colab_type": "code",
        "colab": {
          "base_uri": "https://localhost:8080/",
          "height": 279
        },
        "outputId": "00624bb0-42b5-4b98-c7ed-1d6819081f43"
      },
      "source": [
        "from sklearn.metrics import classification_report\n",
        "print (classification_report(Y_test,preds))"
      ],
      "execution_count": 30,
      "outputs": [
        {
          "output_type": "stream",
          "text": [
            "              precision    recall  f1-score   support\n",
            "\n",
            "           0       0.99      0.93      0.96      2453\n",
            "           1       0.94      1.00      0.97      2404\n",
            "           2       0.88      0.83      0.85      2144\n",
            "           3       0.83      0.93      0.88      2307\n",
            "           4       0.96      0.94      0.95      2285\n",
            "           5       0.92      0.89      0.91      2770\n",
            "\n",
            "   micro avg       0.92      0.92      0.92     14363\n",
            "   macro avg       0.92      0.92      0.92     14363\n",
            "weighted avg       0.92      0.92      0.92     14363\n",
            " samples avg       0.92      0.92      0.92     14363\n",
            "\n"
          ],
          "name": "stdout"
        }
      ]
    },
    {
      "cell_type": "code",
      "metadata": {
        "id": "r1ajjPOt_Q1-",
        "colab_type": "code",
        "colab": {}
      },
      "source": [
        ""
      ],
      "execution_count": 0,
      "outputs": []
    }
  ]
}